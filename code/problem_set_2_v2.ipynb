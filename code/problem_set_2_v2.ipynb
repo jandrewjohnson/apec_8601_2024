{
 "cells": [
  {
   "cell_type": "markdown",
   "metadata": {},
   "source": [
    "# Problem set 2: Hands on with sustainability models\n",
    "\n",
    "This problem set will have you work through several sustainability models. To turn this in, please submit a PDF of your completed notebook and upload to the assignment on canvas. There are lots of ways to convert a completed Jupyter Notebook to PDF, including the Export feature in VS Code in the \"...\" options menu above this notebook. The most robust way is to use Quarto (https://quarto.org/docs/getting-started.html), which I had you install as a VS Code Extension. The easiest way to do that is open up a Command Prompt/Terminal in the folder where your notebook is and type `quarto render problem_set_2.ipynb --to pdf`. This will create a PDF in the same folder as your notebook.\n"
   ]
  },
  {
   "cell_type": "markdown",
   "metadata": {},
   "source": [
    "\n",
    "## Required imports"
   ]
  },
  {
   "cell_type": "code",
   "execution_count": null,
   "metadata": {},
   "outputs": [],
   "source": [
    "import os, sys\n",
    "from IPython.display import display, HTML\n",
    "import seaborn as sns\n",
    "import matplotlib.pyplot as plt\n",
    "import pandas as pd\n",
    "import numpy as np\n",
    "import dicelib  # https://github.com/mptouzel/PyDICE\n",
    "\n",
    "import ipywidgets as widgets  # interactive display\n",
    "\n",
    "plt.style.use(\n",
    "    \"https://raw.githubusercontent.com/ClimateMatchAcademy/course-content/main/cma.mplstyle\"\n",
    ")\n",
    "\n",
    "%matplotlib inline\n",
    "sns.set_style(\"ticks\", {\"axes.grid\": False})\n",
    "params = {\"lines.linewidth\": \"3\"}\n",
    "plt.rcParams.update(params)\n",
    "display(HTML(\"<style>.container { width:100% !important; }</style>\"))"
   ]
  },
  {
   "cell_type": "markdown",
   "metadata": {},
   "source": [
    "## Helper Functions"
   ]
  },
  {
   "cell_type": "code",
   "execution_count": null,
   "metadata": {},
   "outputs": [],
   "source": [
    "def plot_future_returns(gamma, random_seed):\n",
    "    fig, ax = plt.subplots(1, 2, figsize=(8, 4))\n",
    "    np.random.seed(random_seed)\n",
    "    undiscounted_utility_time_series = np.random.rand(time_steps)\n",
    "    ax[0].plot(undiscounted_utility_time_series)\n",
    "\n",
    "    discounted_utility_time_series = undiscounted_utility_time_series * np.power(\n",
    "        gamma, np.arange(time_steps)\n",
    "    )\n",
    "    ax[0].plot(discounted_utility_time_series)\n",
    "\n",
    "    cumulsum_discounted_utility_time_series = np.cumsum(discounted_utility_time_series)\n",
    "    ax[1].plot(\n",
    "        cumulsum_discounted_utility_time_series * (1 - gamma),\n",
    "        color=\"C1\",\n",
    "        label=r\"discounted on $1/(1-\\gamma)=$\"\n",
    "        + \"\\n\"\n",
    "        + r\"$\"\n",
    "        + str(round(1 / (1 - gamma)))\n",
    "        + \"$-step horizon\",\n",
    "    )\n",
    "    cumulsum_undiscounted_utility_time_series = np.cumsum(\n",
    "        undiscounted_utility_time_series\n",
    "    )\n",
    "    ax[1].plot(\n",
    "        cumulsum_undiscounted_utility_time_series\n",
    "        / cumulsum_undiscounted_utility_time_series[-1],\n",
    "        label=\"undiscounted\",\n",
    "        color=\"C0\",\n",
    "    )\n",
    "    ax[1].axvline(1 / (1 - gamma), ls=\"--\", color=\"k\")\n",
    "\n",
    "    ax[0].set_ylabel(\"utility at step t\")\n",
    "    ax[0].set_xlim(0, time_steps)\n",
    "    ax[0].set_xlabel(\"time steps into the future\")\n",
    "    ax[1].legend(frameon=False)\n",
    "    ax[1].set_ylabel(\"future return (normalized)\")\n",
    "    ax[1].set_xlabel(\"time steps into the future\")\n",
    "    ax[1].set_xlim(0, time_steps)\n",
    "    fig.tight_layout()"
   ]
  },
  {
   "cell_type": "markdown",
   "metadata": {},
   "source": [
    "## Question 1\n",
    "\n",
    "Write a for loop that tests the DICE model to see how the total damages in 2100 change when there is a value of 2 versus 3 for the damage function coefficient. Output a figure for each of the two values and then report out the actual value of total damage\n",
    "\n",
    "### Reminder on some key python terms:\n",
    "\n",
    "To iterate ver a list, you use a for loop:\n"
   ]
  },
  {
   "cell_type": "code",
   "execution_count": null,
   "metadata": {},
   "outputs": [],
   "source": [
    "for i in [1, 2, 3]:\n",
    "    print(i)"
   ]
  },
  {
   "cell_type": "markdown",
   "metadata": {},
   "source": [
    "The first step to solve this will be create a new dice model object. You will then call methods from that object like this: dice.method_name()\n",
    "\n",
    "Use the init methods, but ensuring you use the correct damage function parameter. Calling the .init_parameters() method with no arguments gives you the default parameters, but you can overwrite the default by passing specific values like this: `dice.init_parameters(alpha=0.2, eta=0.3)`. You will want to change the exponent in the damage function. If you can't figure out what coefficient it is, you can learn this by poking around in the dicelib.py file. To get the total damages at the right year, you will have to inspect the model outputs and call the right year out of the list. You can access an element in a list like this: `my_value = my_list[0]`. Remember that python is 0-indexed, so the first element is at index 0.\n"
   ]
  },
  {
   "cell_type": "markdown",
   "metadata": {},
   "source": [
    "## Question 2\n",
    "\n",
    "Run the MAGICC model for the 4 main RCPs (2.6, 4.5, 7.0, 8.5). Plot the temperature of each pathway on (a single or seperate) graphs. Report out what is the expected temperature in 2100 for each RCP."
   ]
  },
  {
   "cell_type": "markdown",
   "metadata": {},
   "source": [
    "## Question 3\n",
    "\n",
    "The DICE version that we ran above is the 2016 version of Nordhaus' model. Recently, Nordhaus and team released a new version, documented in Barrage and Nordhaus (2023). Read the paper and compare it to what was in the 2016 version and summarize in 2-3 paragraphs what the main differences are with emphasis on explaining the technical differences (i.e., what coefficient changed and what were its new and old values). You may want to look through the code the Lint Barrange and William Nordhaus put online, which can be found here: https://yale.app.box.com/s/whlqcr7gtzdm4nxnrfhvap2hlzebuvvm"
   ]
  }
 ],
 "metadata": {
  "kernelspec": {
   "display_name": "env2023a",
   "language": "python",
   "name": "python3"
  },
  "language_info": {
   "codemirror_mode": {
    "name": "ipython",
    "version": 3
   },
   "file_extension": ".py",
   "mimetype": "text/x-python",
   "name": "python",
   "nbconvert_exporter": "python",
   "pygments_lexer": "ipython3",
   "version": "3.10.10"
  }
 },
 "nbformat": 4,
 "nbformat_minor": 2
}
