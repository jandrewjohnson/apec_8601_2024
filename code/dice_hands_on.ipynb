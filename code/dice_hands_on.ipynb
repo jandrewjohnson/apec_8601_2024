{
 "cells": [
  {
   "cell_type": "markdown",
   "metadata": {
    "execution": {}
   },
   "source": [
    "# Running DICE in Python\n",
    "\n",
    "In this notebook, you will learn about the Dynamic Integrated Climate-Economy (DICE) model, a cornerstone in the history of climate economics. This notebook is addapted from the wonderful work by ClimateMatch at https://comptools.climatematch.io/.\n",
    "\n",
    "We will explore the inner workings of the DICE model, starting with the foundational principles of economics: *utility* and *welfare* functions. You will also learn how these functions aggregate and weight the satisfaction derived from consumption across different societal groups. You will also learn how the these functions incorporate uncertain future utility into decision-making through *discount rates*. Valuing future states of the world allows the DICE model to place a value on its projections of future scenarios.\n",
    "\n",
    "Later in the tutorial you will learn about damage functions, which combine climatological and economic knowledge to estimate how climate changes will affect economic productivity and the resultant well-being of society.\n",
    "\n",
    "Finally, you will diagnose optimal planning within the DICE model, determining the best strategies for savings and emissions reduction rates (where _best_ is with respect to a chosen utility and welfare function). \n",
    "\n",
    "The overall objective of this tutorial is to provide a technical understanding of how parameters related to the distribution of value in society impact the optimal climate policy within a relatively simple IAM."
   ]
  },
  {
   "cell_type": "markdown",
   "metadata": {
    "execution": {}
   },
   "source": [
    "# Imports and Setup"
   ]
  },
  {
   "cell_type": "code",
   "execution_count": null,
   "metadata": {
    "execution": {},
    "executionInfo": {
     "elapsed": 1460,
     "status": "ok",
     "timestamp": 1682429063027,
     "user": {
      "displayName": "Maximilian Puelma Touzel",
      "userId": "09308600515315501700"
     },
     "user_tz": 240
    },
    "tags": []
   },
   "outputs": [],
   "source": [
    "from IPython.display import display, HTML\n",
    "import seaborn as sns\n",
    "import matplotlib.pyplot as plt\n",
    "import pandas as pd\n",
    "import numpy as np\n",
    "import dicelib  # https://github.com/mptouzel/PyDICE\n",
    "\n",
    "import ipywidgets as widgets  # interactive display\n",
    "\n",
    "plt.style.use(\n",
    "    \"https://raw.githubusercontent.com/ClimateMatchAcademy/course-content/main/cma.mplstyle\"\n",
    ")\n",
    "\n",
    "%matplotlib inline\n",
    "sns.set_style(\"ticks\", {\"axes.grid\": False})\n",
    "params = {\"lines.linewidth\": \"3\"}\n",
    "plt.rcParams.update(params)\n",
    "display(HTML(\"<style>.container { width:100% !important; }</style>\"))"
   ]
  },
  {
   "cell_type": "markdown",
   "metadata": {},
   "source": [
    "# Helper Functions"
   ]
  },
  {
   "cell_type": "code",
   "execution_count": null,
   "metadata": {
    "cellView": "form",
    "code_folding": [
     0
    ],
    "execution": {},
    "tags": []
   },
   "outputs": [],
   "source": [
    "def plot_future_returns(gamma, random_seed):\n",
    "    fig, ax = plt.subplots(1, 2, figsize=(8, 4))\n",
    "    np.random.seed(random_seed)\n",
    "    undiscounted_utility_time_series = np.random.rand(time_steps)\n",
    "    ax[0].plot(undiscounted_utility_time_series)\n",
    "\n",
    "    discounted_utility_time_series = undiscounted_utility_time_series * np.power(\n",
    "        gamma, np.arange(time_steps)\n",
    "    )\n",
    "    ax[0].plot(discounted_utility_time_series)\n",
    "\n",
    "    cumulsum_discounted_utility_time_series = np.cumsum(discounted_utility_time_series)\n",
    "    ax[1].plot(\n",
    "        cumulsum_discounted_utility_time_series * (1 - gamma),\n",
    "        color=\"C1\",\n",
    "        label=r\"discounted on $1/(1-\\gamma)=$\"\n",
    "        + \"\\n\"\n",
    "        + r\"$\"\n",
    "        + str(round(1 / (1 - gamma)))\n",
    "        + \"$-step horizon\",\n",
    "    )\n",
    "    cumulsum_undiscounted_utility_time_series = np.cumsum(\n",
    "        undiscounted_utility_time_series\n",
    "    )\n",
    "    ax[1].plot(\n",
    "        cumulsum_undiscounted_utility_time_series\n",
    "        / cumulsum_undiscounted_utility_time_series[-1],\n",
    "        label=\"undiscounted\",\n",
    "        color=\"C0\",\n",
    "    )\n",
    "    ax[1].axvline(1 / (1 - gamma), ls=\"--\", color=\"k\")\n",
    "\n",
    "    ax[0].set_ylabel(\"utility at step t\")\n",
    "    ax[0].set_xlim(0, time_steps)\n",
    "    ax[0].set_xlabel(\"time steps into the future\")\n",
    "    ax[1].legend(frameon=False)\n",
    "    ax[1].set_ylabel(\"future return (normalized)\")\n",
    "    ax[1].set_xlabel(\"time steps into the future\")\n",
    "    ax[1].set_xlim(0, time_steps)\n",
    "    fig.tight_layout()"
   ]
  },
  {
   "cell_type": "markdown",
   "metadata": {
    "execution": {}
   },
   "source": [
    "# Section 1: Background on IAM Economics and the DICE Model"
   ]
  },
  {
   "cell_type": "markdown",
   "metadata": {
    "execution": {}
   },
   "source": [
    "The [Dynamic Integrated Climate-Economy (DICE)](https://www3.nd.edu/~nmark/Climate/DICE-simplified_2019.pdf) was the first prominent Integrated Assessment Model (IAM), a class of models economists use to inform policy decisions. Recall that IAMs couple a climate model to an economic model, allowing us to evaluate the two-way coupling between economic productivity and climate change severity. DICE is too idealized to be predictive, like other models (e.g., the limits to growth model `world3`), but DICE is still useful as a sandbox for exploring climate policy ideas, which is how we will use it here.\n",
    "\n",
    "Let's begin with a brief description of IAMs and the DICE model:\n",
    "\n",
    "- DICE is a fully aggregated (i.e., non-spatial) model, but otherwise contains the essence of many key components of more complex IAMs. \n",
    "- Unlike `world3`, IAMs usually have *exogeneous* (externally set) times series for variables, in addition to fixed world system parameters. These exogeneous variables are assumed to be under our society's control (e.g. mitigation). \n",
    "- IAMs come equipped with an objective function (a formula that calculates the quantity to be optimized). This function returns the value of a projected future obtained from running the world model under a given climate policy. This value is defined by time series of these exogeneous variables. In this sense, the objective function is what defines \"good\" in \"good climate policy\". \n",
    "- The computation in an IAM is then an optimization of this objective as a function of the time series of these exogeneous variables over some fixed time window. In DICE, there are two exogeneous parameters:\n",
    "    - **$\\mu(t)$**: time-dependent mitigation rate (i.e. emissions reduction), which limits warming-caused damages\n",
    "    - **$S(t)$**: savings rate, which drives capital investment \n",
    "- The choices for the standard values of the parameters used in the DICE models have been critisized, and updated versions have been analyzed and proposed ([Hansel et al. 2020](https://www.nature.com/articles/s41558-020-0833-x);[Barrage & Nordhaus 2023](https://www.nber.org/papers/w31112)). Here, we look at the standard DICE2016 version of the model.\n",
    "\n",
    "All DICE models (and most IAMs) are based on *Neo-classical economics*. This is an approach to economics that makes particular assumptions. For example, it is assumed that production, consumption, and valuation of goods and services are driven solely by the supply and demand model. "
   ]
  },
  {
   "cell_type": "markdown",
   "metadata": {
    "execution": {}
   },
   "source": [
    "### Section 1.1.1: Utilities at Different Levels of Consumption\n",
    "We assume\n",
    "\n",
    "- **A unit of consumption has less value to an individual, the more that individual tends to consume overall**\n",
    "\n",
    "The one parameter for the utility function used in DICE is **elasticity** ($\\alpha$), which is the measure of a variable's sensitivity to change in another variable, in this case, how utility changes with consumption. \n",
    "\n",
    "We can plot the utility function for different values of elasticity to assess how the sensitivity of utility to changes in comsumption varies with different elasticity values.\n",
    "\n",
    "Specifically, win the code below, we will e will plot $$U(c) = \\frac{(c + 1)^{1-\\alpha} - 1}{1-\\alpha}$$ for different values of $\\alpha$. "
   ]
  },
  {
   "cell_type": "code",
   "execution_count": null,
   "metadata": {
    "execution": {},
    "executionInfo": {
     "elapsed": 2277,
     "status": "ok",
     "timestamp": 1682429066684,
     "user": {
      "displayName": "Maximilian Puelma Touzel",
      "userId": "09308600515315501700"
     },
     "user_tz": 240
    },
    "tags": []
   },
   "outputs": [],
   "source": [
    "fig, ax = plt.subplots()\n",
    "c = np.linspace(0, 10, 1000)\n",
    "for alpha in [0, 0.1, 0.5, 1.0, 1.45]:\n",
    "    if alpha == 1:\n",
    "        ax.plot(c, np.log(1 + c), label=r\"$\\alpha=\" + str(alpha) + \"$\")\n",
    "    elif alpha == 1.45:\n",
    "        ax.plot(\n",
    "            c,\n",
    "            ((c + 1) ** (1 - alpha) - 1) / (1 - alpha),\n",
    "            label=r\"$\\alpha=\" + str(alpha) + \"$(DICE)\",\n",
    "        )\n",
    "    else:\n",
    "        ax.plot(\n",
    "            c,\n",
    "            ((c + 1) ** (1 - alpha) - 1) / (1 - alpha),\n",
    "            label=r\"$\\alpha=\" + str(alpha) + \"$\",\n",
    "        )\n",
    "\n",
    "ax.plot([0, 10], [0, 10], \"k--\")\n",
    "ax.legend(frameon=False)\n",
    "ax.set_xlabel(\"consumption, c\")\n",
    "ax.set_ylabel(\"utility, u(c)\")"
   ]
  },
  {
   "cell_type": "markdown",
   "metadata": {
    "execution": {}
   },
   "source": [
    "The plot you just made shows the relationship between consumption and utility for four different values of elasticity. For all values of elasticity, as consumption increases, the utility also increases, as we discussed above. However, let's make some observations about how changes in elasticity affect this relationship. For lower elasticity values (i.e. $\\alpha$ = 1 shown in blue) an increase in consumption results in a stronger increase in utility. In constrast, for high elasticity values (i.e. $\\alpha$ = 1.45 shown in red), such as what is used in the DICE model, an increase in consumption results in only a smaller increase in utility."
   ]
  },
  {
   "cell_type": "markdown",
   "metadata": {
    "execution": {}
   },
   "source": [
    "#### Questions 1.1.1\n",
    "1. What do you think the function looks like for $\\alpha=0$?"
   ]
  },
  {
   "cell_type": "markdown",
   "metadata": {
    "execution": {}
   },
   "source": [
    "### Utility and Discounting \n",
    "\n",
    "In DICE, we assume  individuals are of the same type, i.e. a population of such individuals, and that **Utilities of individuals of the same type sum**"
   ]
  },
  {
   "cell_type": "markdown",
   "metadata": {
    "execution": {}
   },
   "source": [
    "We also will discount our choices in the future via the discount rate, as discussed in previous classes. But to reiterate, **Utilities in the near future are valued more than those in the far future**\n",
    "\n",
    "We have seen that discounting greatly depends on the  **discount factor** ($\\gamma$ ('gamma'), which is a number just less than 1, e.g. 0.95). The discount factor is raised to the power of time (in years) into the future to give the discount rate at that future time: \n",
    "- after 1 year $(0.95)^1=0.95$\n",
    "- after 2 years $(0.95)^2=0.90$\n",
    "- after 10 years $(0.95)$<sup>10</sup>$=0.60$\n",
    "\n",
    "The _return_ is the sum of future utilities, which is taken as the value of that future projection. If these utilies are discounted, their sum is called the _discounted return_. The following code will show an illustration of the effect of temporal discounting on future utilities and the return up to a given number of time steps into the future for a discount factor of $\\gamma$ = 0.95.\n",
    "\n",
    "**Here we see the value of future utility means almost nothing to the present-day decision**"
   ]
  },
  {
   "cell_type": "code",
   "execution_count": null,
   "metadata": {
    "execution": {},
    "tags": []
   },
   "outputs": [],
   "source": [
    "time_steps = 300\n",
    "gamma = 0.95\n",
    "random_seed = 1\n",
    "plot_future_returns(gamma, random_seed)"
   ]
  },
  {
   "cell_type": "markdown",
   "metadata": {
    "execution": {}
   },
   "source": [
    "In both plots, the blue lines are undiscounted case (i.e. without the effect of temporal discounting) and the orange lines are the discounted case (i.e. including the effect of temporal discounting). \n",
    "\n",
    "The figure on the left shows utility at each time step. In both the undiscounted scenario (blue) and the discounted scenario (orange), projected utilities are variable and uncertain. Notice that in the unsidcounted case, the average size of these utilities stays the same. In contrast, in the discounted case the typical size of utility rapidly decreases to zero, reflecting the effect of temporal discounting (i.e. the devaluation of utilities in the far future). \n",
    "\n",
    "The figure on the right shows changes in return (i.e. the cumulative sum of future utilities) over time. The black dashed line shows the effective time horizon beyond which rewards are ignored in the discounted case for this chosen value of the discount factor, $\\gamma$ (this time is set by the natural convention of when the return gets to a fraction ($1-1/e\\approx0.64$) of the final value). Beyond the time horizon, the future discounted return (orange) reaches saturation, and no additional utility from further time steps contributes to the overall value. In contrast, in the undiscounted case (blue), all future times are equally important, and the return grows linearly with the maximum time considered for computing utilities. "
   ]
  },
  {
   "cell_type": "markdown",
   "metadata": {},
   "source": [
    "#### Discussion question\n",
    "\n",
    "Play around with the code above and see what discount factor would be necessary to have discounted utility not fall nearly to zero in the terminal year. What was it?"
   ]
  },
  {
   "cell_type": "markdown",
   "metadata": {
    "execution": {}
   },
   "source": [
    "# Section 2: Damage Functions"
   ]
  },
  {
   "cell_type": "markdown",
   "metadata": {
    "execution": {}
   },
   "source": [
    "Now that we have familiarized ourselves with some of the main components of IAMs and the DICE model, we can begin to explore another important component: the **damage function**. The damage function is a central model component that connects climate and socio-economic processes in integrated assessment models.\n",
    "\n",
    "Damage functions are the objects in IAMs that dictate how changes in temperature affect production (e.g. through direct weather-related damages). They play a crucial role in determining the model's projections.\n",
    "\n",
    "The standard form is a deterministic continuous function that maps changes in temperature, $\\Delta T$, to the fraction of productivity that is destroyed by climate change every year, $\\Omega$. The standard parametrization is a quadratic dependence \n",
    "$$\\Omega=a \\times (\\Delta T)^2$$\n",
    "where $a$ is some small constant (e.g. 0.001) whose value is set by regression of GDP and temperature over geographic and historical variation. Let's plot this function. "
   ]
  },
  {
   "cell_type": "code",
   "execution_count": null,
   "metadata": {
    "execution": {},
    "executionInfo": {
     "elapsed": 805,
     "status": "ok",
     "timestamp": 1682429069667,
     "user": {
      "displayName": "Maximilian Puelma Touzel",
      "userId": "09308600515315501700"
     },
     "user_tz": 240
    },
    "tags": []
   },
   "outputs": [],
   "source": [
    "fig, ax = plt.subplots()\n",
    "T = np.linspace(0, 4, 1000)\n",
    "a1DICE = 0.00236\n",
    "a2 = 2.00\n",
    "for a1 in [a1DICE, 1e-2, 1e-1]:\n",
    "    ax.plot(\n",
    "        T,\n",
    "        a1 * (T**a2),\n",
    "        label=r\"$a_1=\" + str(a1) + \"$\" + (\"(DICE2023)\" if a1 == a1DICE else \"\"),\n",
    "    )\n",
    "ax.legend(frameon=False)\n",
    "ax.set_xlabel(\"temperature change, $\\Delta T$\")\n",
    "ax.set_ylabel(\"fraction productivity destroyed\")\n",
    "ax.set_ylim(0, 0.5)"
   ]
  },
  {
   "cell_type": "markdown",
   "metadata": {
    "execution": {}
   },
   "source": [
    "Observe how larger temperature changes lead to a larger fraction of productivity destroyed due to the damages caused by that temperature. The damage at a given temperature scales linearly with the parameter $a_1$, and exponentially with the parameters $a_2$."
   ]
  },
  {
   "cell_type": "markdown",
   "metadata": {
    "execution": {}
   },
   "source": [
    "There are at least two fundamental problems with damage functions (for more see [*The appallingly bad neoclassical economics of climate change* by S. Keen in *Globalizations* (2020)](https://www.tandfonline.com/doi/full/10.1080/14747731.2020.1807856)):\n",
    "1. As mathematical model objects, they are likely too simple to be useful predictors in characterizing climate damages in sufficient complexity. \n",
    "2. They arise from a poorly validated model-fitting procedure. In particular, it relies on ad hoc functional forms and the relevance of historical and geographical variability to future variability."
   ]
  },
  {
   "cell_type": "code",
   "execution_count": null,
   "metadata": {
    "execution": {}
   },
   "outputs": [],
   "source": [
    "# to_remove explanation\n",
    "\n",
    "\"\"\"\n",
    "1. You can consider a few reasons such as nonlinearity, regional differences, socioeconomic factors, and non-monetary damages. In particular, one could imagine subway systems being minimally affected until the sea level rises to the level of entrances to the subway at which point the subway is completely flooded.\n",
    "2. Significant in past and future: reduced worker productivity; Significant only in future: Heat-induced crop failures\n",
    "\"\"\";"
   ]
  },
  {
   "cell_type": "markdown",
   "metadata": {
    "execution": {}
   },
   "source": [
    "Despite these problems highlighting a pressing need to improve how we formulate climate damages, damage functions allow economists within the neoclassical paradigm to start seriously considering the damaging effects of climate change. After a few decades of economists using overly optimistic damage functions that downplayed the damaging effects of climate change, current research on damage functions is striving to incorporate more realism and better estimation.\n",
    "\n",
    "For more contemporary damage functions see [van der Wijst et al. *Nat. Clim. Change* (2023)](https://www.nature.com/articles/s41558-023-01636-1). Note that even this modern publication is hindered by the [McNamara Fallacy](https://en.wikipedia.org/wiki/McNamara_fallacy) of leaving out things that are hard to measure. The authors state: \"The climate change impacts did not include potential losses originated in ecosystems or in the health sector. This is motivated by the difficulty in addressing the non-market dimension of those impacts with a ‘market-transaction-based’ model such as CGE. Also, catastrophic events were not considered, even though some ‘extremes’ (riverine floods) were included.\""
   ]
  },
  {
   "cell_type": "markdown",
   "metadata": {
    "execution": {}
   },
   "source": [
    "## Section 2.1: IAM Model Summary \n",
    "\n",
    "We've now explored both the utility function and damage function components of IAMs.  Before we move on to actually running the DICE model, let's summarize what we've learned so far about IAMs, specifically regarding the economy and climate models:\n",
    "\n",
    "The economy model in most IAMs is a capital accumulation model. \n",
    "- Capital ($K$) combines with a laboring population and technology to generate productivity ($Y$) that is hindered by climate damage. \n",
    "- A savings rate, $S$, drives capital accumulation, while the rest is consumed. Welfare is determined by consumption.\n",
    "- Climate action is formulated by a mitigation rate, $\\mu$, which along with the savings rate, $S$, are the two exogeneous control parameters in the model and are used to maximize welfare.\n",
    "\n",
    "The climate model in DICE interacts with the economy model via the following equation: \n",
    "$$E_\\mathrm{ind}=(1-\\mu)\\sigma Y,$$ \n",
    "- Productivity ($Y$) generates industrial emissions ($E_\\mathrm{ind}$), where the $1-\\mu$ factor accounts for a reduction of the carbon intensity of production, $\\sigma$, via supply-side mitigation measures (e.g. increased efficiency). \n",
    "- The productivity $Y$ rather than output production ($Q$) is used here because damages aren't included. \n",
    "- Damages aren't included because the emissions produced in the process of capital production occur before climate change has a chance to inflict damage on the produced output. \n",
    "- These industrial emissions combine with natural emissions to drive the temperature changes appearing in the damage function, closing the economy-climate loop. "
   ]
  },
  {
   "cell_type": "markdown",
   "metadata": {
    "execution": {}
   },
   "source": [
    "## Section 2.2: Optimal Planning\n",
    "The goal of the model is to maximize the overall value of a projected future, $V$, within the bounds of mitigation rate, $\\mu$, and savings rate, $S$, time courses (while considering constraints on $\\mu$ and $S$). This approach is known as **optimal planning**. But why does this \"sweet spot\" in which overall value is maximized exist? Increasing savings boosts investment and productivity, but higher production leads to higher emissions, resulting in increased temperature and damages that reduce production. Mitigation costs counterbalance this effect, creating a trade-off. As a result, there typically exists a meaningful joint time series of $\\mu_t$ and $S_t$ that maximizes $V$. Due to the discount factor $\\gamma$, $V$ depends on the future consumption sequence (non-invested production) within a few multiples of the time horizon, approximately $1/(1-\\gamma)$ time steps into the future."
   ]
  },
  {
   "cell_type": "markdown",
   "metadata": {
    "execution": {}
   },
   "source": [
    "We gone over many variables so far in this tutorial. Here is a list of variables used fore easier reference:\n",
    "- $K$ capital\n",
    "- $Y$ productivity\n",
    "- $S$ savings rate\n",
    "- $\\mu$ mitigation rate\n",
    "- $E$ emissions\n",
    "- $\\sigma$ carbon intensity of production\n",
    "- $Q$ production\n",
    "- $\\gamma$ discount factor\n",
    "- $V$ value\n",
    "\n",
    "If you'd like to explore the mathematical equations behind these models in more detail, please refer to the information in the \"Further Reading\" section for this day."
   ]
  },
  {
   "cell_type": "markdown",
   "metadata": {
    "execution": {}
   },
   "source": [
    "# Section 3: DICE Simulations\n"
   ]
  },
  {
   "cell_type": "markdown",
   "metadata": {
    "execution": {}
   },
   "source": [
    "Now, let's move to the DICE model that gives us some control over our emissions and consumption to see the effect of varying the parameters arising from the above design choices.\n",
    "\n",
    "I've forked an existing `Python` implementation of the [DICE2016 model](https://github.com/hazem2410/PyDICE) and refactored it into a class (defined in [`dicelib.py`](https://github.com/mptouzel/PyDICE/blob/master/dicelib.py)) and made a few other changes to make it easier to vary parameters. We'll use that [forked version](https://github.com/mptouzel/PyDICE/) in this tutorial.\n",
    "Note that the DICE model was recently updated ([DICE2023](https://www.nber.org/papers/w31112)).\n",
    "\n",
    "The model equations are described in a [document](https://github.com/hazem2410/PyDICE/blob/master/PyDICE2016.pdf) associated with the exising `Python` implementation."
   ]
  },
  {
   "cell_type": "markdown",
   "metadata": {
    "execution": {}
   },
   "source": [
    "## Section 3.1: Case 1 Standard Run"
   ]
  },
  {
   "cell_type": "markdown",
   "metadata": {
    "execution": {}
   },
   "source": [
    "Let's run the standard run of the DICE model:"
   ]
  },
  {
   "cell_type": "code",
   "execution_count": null,
   "metadata": {
    "execution": {},
    "executionInfo": {
     "elapsed": 72615,
     "status": "ok",
     "timestamp": 1682429142278,
     "user": {
      "displayName": "Maximilian Puelma Touzel",
      "userId": "09308600515315501700"
     },
     "user_tz": 240
    },
    "tags": []
   },
   "outputs": [],
   "source": [
    "dice_std = dicelib.DICE()  # create an instance of the model\n",
    "dice_std.init_parameters()\n",
    "dice_std.init_variables()\n",
    "controls_start_std, controls_bounds_std = dice_std.get_control_bounds_and_startvalue()\n",
    "dice_std.optimize_controls(controls_start_std, controls_bounds_std);"
   ]
  },
  {
   "cell_type": "markdown",
   "metadata": {
    "execution": {}
   },
   "source": [
    "Before assessing the results, let's first check that the optimal control solution is within the bounds we set. To do so, let's assess the mitigation rate and savings rate:"
   ]
  },
  {
   "cell_type": "code",
   "execution_count": null,
   "metadata": {
    "execution": {},
    "executionInfo": {
     "elapsed": 757,
     "status": "ok",
     "timestamp": 1682429143004,
     "user": {
      "displayName": "Maximilian Puelma Touzel",
      "userId": "09308600515315501700"
     },
     "user_tz": 240
    },
    "tags": []
   },
   "outputs": [],
   "source": [
    "fig, ax = plt.subplots(1, 2)\n",
    "max_year = 2100\n",
    "TT = dice_std.TT\n",
    "NT = dice_std.NT\n",
    "upp, low = zip(*controls_bounds_std[:NT])\n",
    "ax[0].plot(TT, dice_std.optimal_controls[:NT], label=\"optimal\")\n",
    "ax[0].plot(TT, upp, \"k--\", label=\"bounds\")\n",
    "ax[0].plot(TT, low, \"k--\")\n",
    "ax[0].set_ylabel(\"mitigation rate\")\n",
    "ax[0].set_xlim(2000, max_year)\n",
    "ax[0].legend(frameon=False)\n",
    "upp, low = zip(*controls_bounds_std[NT:])\n",
    "ax[1].plot(TT, dice_std.optimal_controls[NT:])\n",
    "ax[1].plot(TT, upp, \"k--\")\n",
    "ax[1].plot(TT, low, \"k--\")\n",
    "ax[1].set_ylabel(\"savings rate\")\n",
    "ax[1].set_xlabel(\"year\")\n",
    "ax[1].set_xlim(2000, max_year)\n",
    "\n",
    "fig.tight_layout()"
   ]
  },
  {
   "cell_type": "markdown",
   "metadata": {
    "execution": {}
   },
   "source": [
    "\n",
    "The model incorporates the effects of negative emission technologies by allowing the mitigation rate (via the bounds) to exceed 1 around the year 2140. It is worth noting that the solution explicitly utilizes this feature and would do so even before 2100 if permitted. The decision to include this behavior was made by the modellers who realized that it enabled feasible solutions for the higher forcing SSP scenarios that were previously unattainable.\n",
    "\n",
    "At the time, there was a lively debate surrounding this decision, although it was largely in favor of allowing mitigation rates greater than 1. As a result, such rates have become a standard feature in many models for high forcing regimes. However, it is important to acknowledge that there have been arguments against this practice, as discussed in [Anderson & Peters, 2006](https://DOI:10.1126/science.aah45).\n",
    "\n",
    "In the final two tutorials, we will explore sociological aspects such as these.\n",
    "\n",
    "Now, let's examine the remaining variables of the DICE model:"
   ]
  },
  {
   "cell_type": "code",
   "execution_count": null,
   "metadata": {
    "execution": {},
    "executionInfo": {
     "elapsed": 1122,
     "status": "ok",
     "timestamp": 1682429144121,
     "user": {
      "displayName": "Maximilian Puelma Touzel",
      "userId": "09308600515315501700"
     },
     "user_tz": 240
    },
    "tags": []
   },
   "outputs": [],
   "source": [
    "dice_std.roll_out(dice_std.optimal_controls)\n",
    "dice_std.plot_run(\"standard run\")"
   ]
  },
  {
   "cell_type": "markdown",
   "metadata": {
    "execution": {}
   },
   "source": [
    "In this plot, the mitigation rate we looked at earlier is now referred to as the \"Em rate\" (orange line), which closely follows the patter of the carbon price (green line). Similarly, the rate of CO2 emissions (gray line) aligns with the industrial emissions (red line). Cumulative emissions (pink line) reach their peak around 2090, considering that negative emission technologies (NETs) are not employed until 2140."
   ]
  },
  {
   "cell_type": "markdown",
   "metadata": {
    "execution": {}
   },
   "source": [
    "## Hands on practice: Modifying the Damage Functions\n",
    "\n",
    "Change the strength of the nonlinearity in the damage function by changing the exponent from 2 to 3.\n"
   ]
  },
  {
   "cell_type": "code",
   "execution_count": null,
   "metadata": {},
   "outputs": [],
   "source": [
    "# Reminder on some key python terms:\n",
    "\n",
    "## To iterate ver a list, you use a for loop:\n",
    "for i in [1, 2, 3]:\n",
    "    print(i)\n",
    "    \n",
    "## The first step will be create a new dice model object. You will then call methods from that object like this: dice.method_name()\n",
    "\n",
    "## Second step, use the init methods, but ensuring you use the correct damage function parameter\n",
    "\n",
    "## One useful line you'll want is controls_start, controls_bounds = dice.get_control_bounds_and_startvalue()\n",
    "## This just sets the two control variables to the starting values.\n",
    "\n",
    "\n",
    "\n",
    "for a3 in [2, 3]:\n",
    "    dice = dicelib.DICE()\n",
    "    dice.init_parameters(a3=a3)\n",
    "    dice.init_variables()\n",
    "    controls_start, controls_bounds = dice.get_control_bounds_and_startvalue()\n",
    "    dice.optimize_controls(controls_start, controls_bounds)\n",
    "    dice.roll_out(dice.optimal_controls)\n",
    "    dice.plot_run(\"damage function exponent, a3=\" + str(a3))"
   ]
  }
 ],
 "metadata": {
  "colab": {
   "collapsed_sections": [],
   "include_colab_link": true,
   "name": "W2D3_Tutorial2",
   "provenance": [],
   "toc_visible": true
  },
  "kernel": {
   "display_name": "Python 3",
   "language": "python",
   "name": "python3"
  },
  "kernelspec": {
   "display_name": "Python 3 (ipykernel)",
   "language": "python",
   "name": "python3"
  },
  "language_info": {
   "codemirror_mode": {
    "name": "ipython",
    "version": 3
   },
   "file_extension": ".py",
   "mimetype": "text/x-python",
   "name": "python",
   "nbconvert_exporter": "python",
   "pygments_lexer": "ipython3",
   "version": "3.10.10"
  }
 },
 "nbformat": 4,
 "nbformat_minor": 4
}
